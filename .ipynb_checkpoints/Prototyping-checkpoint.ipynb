{
 "cells": [
  {
   "cell_type": "code",
   "execution_count": 85,
   "id": "8d34a3ce",
   "metadata": {},
   "outputs": [],
   "source": [
    "import requests\n",
    "from bs4 import BeautifulSoup\n",
    "import json\n",
    "import time"
   ]
  },
  {
   "cell_type": "code",
   "execution_count": 86,
   "id": "97b5ec20",
   "metadata": {},
   "outputs": [],
   "source": [
    "from selenium import webdriver\n",
    "from selenium.webdriver.common.keys import Keys\n",
    "from selenium.webdriver.support import expected_conditions as EC\n",
    "from selenium.webdriver.common.by import By\n",
    "from selenium.webdriver.support.wait import WebDriverWait\n",
    "from selenium.webdriver.chrome.service import Service\n",
    "from webdriver_manager.chrome import ChromeDriverManager"
   ]
  },
  {
   "cell_type": "code",
   "execution_count": 124,
   "id": "f03e388e",
   "metadata": {},
   "outputs": [],
   "source": [
    "links = []\n"
   ]
  },
  {
   "cell_type": "code",
   "execution_count": 125,
   "id": "0ac5a0fe",
   "metadata": {},
   "outputs": [],
   "source": [
    "options = webdriver.ChromeOptions()\n",
    "\n",
    "s = Service('/home/juggernautjha/Desktop/Pclub-Scraping/chromedriver')\n",
    "driver = webdriver.Chrome(service = s, options = options)"
   ]
  },
  {
   "cell_type": "code",
   "execution_count": 126,
   "id": "b818ddc5",
   "metadata": {},
   "outputs": [],
   "source": [
    "driver.get('https://summerofcode.withgoogle.com/programs/2022/organizations')\n",
    "time.sleep(20)"
   ]
  },
  {
   "cell_type": "code",
   "execution_count": 127,
   "id": "8647a4ec",
   "metadata": {},
   "outputs": [],
   "source": [
    "next_xpath = '/html/body/app-root/app-layout/mat-sidenav-container/mat-sidenav-content[1]/div/div/main/app-program-organizations/app-orgs-grid/section[2]/div/div[2]/mat-paginator/div/div/div[2]/button[2]'"
   ]
  },
  {
   "cell_type": "code",
   "execution_count": 128,
   "id": "d69e6d3e",
   "metadata": {},
   "outputs": [],
   "source": [
    "# print([i.get_attribute('href') for i in a])\n",
    "# print(len(a))\n",
    "def go_next():\n",
    "    next = driver.find_elements(By.XPATH, next_xpath)\n",
    "    next[-1].click()\n",
    "def go_prev():\n",
    "    next = driver.find_elements(By.XPATH, next_xpath)\n",
    "    next[0].click()"
   ]
  },
  {
   "cell_type": "code",
   "execution_count": 129,
   "id": "d93a92c0",
   "metadata": {},
   "outputs": [
    {
     "name": "stdout",
     "output_type": "stream",
     "text": [
      "198\n"
     ]
    }
   ],
   "source": [
    "for i in range(4):\n",
    "    a = driver.find_elements(By.CSS_SELECTOR, 'a.content')\n",
    "    for i in a:\n",
    "        links.append(i.get_attribute(\"href\"))\n",
    "    go_next()\n",
    "    time.sleep(1)\n",
    "print(len(links))"
   ]
  },
  {
   "cell_type": "code",
   "execution_count": 130,
   "id": "6a94a80f",
   "metadata": {},
   "outputs": [
    {
     "name": "stdout",
     "output_type": "stream",
     "text": [
      "198\n"
     ]
    }
   ],
   "source": [
    "print(len(links))"
   ]
  },
  {
   "cell_type": "code",
   "execution_count": 136,
   "id": "656c7fa0",
   "metadata": {},
   "outputs": [],
   "source": [
    "orgs = dict()\n",
    "driver.close()"
   ]
  },
  {
   "cell_type": "code",
   "execution_count": 172,
   "id": "e718ef55",
   "metadata": {},
   "outputs": [],
   "source": [
    "driver = webdriver.Chrome(service = s, options = options)"
   ]
  },
  {
   "cell_type": "code",
   "execution_count": 143,
   "id": "c05b8314",
   "metadata": {},
   "outputs": [
    {
     "name": "stdout",
     "output_type": "stream",
     "text": [
      "https://summerofcode.withgoogle.com/programs/2022/organizations/the-mifos-initiative\n",
      "The Mifos Initiative 142\n",
      "https://summerofcode.withgoogle.com/programs/2022/organizations/stear-group\n",
      "Ste||ar group 143\n",
      "https://summerofcode.withgoogle.com/programs/2022/organizations/cern-hsf\n",
      "CERN-HSF 144\n",
      "https://summerofcode.withgoogle.com/programs/2022/organizations/radar-base\n",
      "RADAR-base 145\n",
      "https://summerofcode.withgoogle.com/programs/2022/organizations/opensuse-project\n",
      "openSUSE Project 146\n",
      "https://summerofcode.withgoogle.com/programs/2022/organizations/robocomp\n",
      "RoboComp 147\n",
      "https://summerofcode.withgoogle.com/programs/2022/organizations/grame\n",
      "GRAME 148\n",
      "https://summerofcode.withgoogle.com/programs/2022/organizations/jenkins-x\n",
      "Jenkins X 149\n",
      "https://summerofcode.withgoogle.com/programs/2022/organizations/geomscale\n",
      "GeomScale 150\n",
      "https://summerofcode.withgoogle.com/programs/2022/organizations/ceph\n",
      "Ceph 151\n",
      "https://summerofcode.withgoogle.com/programs/2022/organizations/mlpack\n",
      "mlpack 152\n",
      "https://summerofcode.withgoogle.com/programs/2022/organizations/chips-alliance\n",
      "CHIPS Alliance 153\n",
      "https://summerofcode.withgoogle.com/programs/2022/organizations/plone-foundation\n",
      "Plone Foundation 154\n",
      "https://summerofcode.withgoogle.com/programs/2022/organizations/mathesar\n",
      "Mathesar 155\n",
      "https://summerofcode.withgoogle.com/programs/2022/organizations/cbioportal-for-cancer-genomics\n",
      "cBioPortal for Cancer Genomics 156\n",
      "https://summerofcode.withgoogle.com/programs/2022/organizations/chaoss\n",
      "CHAOSS 157\n",
      "https://summerofcode.withgoogle.com/programs/2022/organizations/qemu\n",
      "QEMU 158\n",
      "https://summerofcode.withgoogle.com/programs/2022/organizations/xwiki\n",
      "XWiki 159\n",
      "https://summerofcode.withgoogle.com/programs/2022/organizations/postgresql\n",
      "PostgreSQL 160\n",
      "https://summerofcode.withgoogle.com/programs/2022/organizations/aboutcode\n",
      "AboutCode 161\n",
      "https://summerofcode.withgoogle.com/programs/2022/organizations/opencv\n",
      "OpenCV 162\n",
      "https://summerofcode.withgoogle.com/programs/2022/organizations/godot-engine\n",
      "Godot Engine 163\n",
      "https://summerofcode.withgoogle.com/programs/2022/organizations/neutralinojs\n",
      "Neutralinojs 164\n",
      "https://summerofcode.withgoogle.com/programs/2022/organizations/our-world-in-data\n",
      "Our World In Data 165\n",
      "https://summerofcode.withgoogle.com/programs/2022/organizations/gnu-compiler-collection-gcc\n",
      "GNU Compiler Collection (GCC) 166\n",
      "https://summerofcode.withgoogle.com/programs/2022/organizations/open3d-team\n",
      "Open3D team 167\n",
      "https://summerofcode.withgoogle.com/programs/2022/organizations/society-for-arts-and-technology-sat\n",
      "Society for Arts and Technology (SAT) 168\n",
      "https://summerofcode.withgoogle.com/programs/2022/organizations/international-catrobat-association\n",
      "International Catrobat Association 169\n",
      "https://summerofcode.withgoogle.com/programs/2022/organizations/scala-center\n",
      "Scala Center 170\n",
      "https://summerofcode.withgoogle.com/programs/2022/organizations/aossie\n",
      "AOSSIE 171\n",
      "https://summerofcode.withgoogle.com/programs/2022/organizations/jenkins-wp\n",
      "Jenkins 172\n",
      "https://summerofcode.withgoogle.com/programs/2022/organizations/kodi\n",
      "Kodi 173\n",
      "https://summerofcode.withgoogle.com/programs/2022/organizations/sagemath\n",
      "SageMath 174\n",
      "https://summerofcode.withgoogle.com/programs/2022/organizations/inkscape\n",
      "Inkscape 175\n",
      "https://summerofcode.withgoogle.com/programs/2022/organizations/seaql\n",
      "SeaQL 176\n",
      "https://summerofcode.withgoogle.com/programs/2022/organizations/free-and-open-source-silicon-foundation\n",
      "Free and Open Source Silicon Foundation 177\n",
      "https://summerofcode.withgoogle.com/programs/2022/organizations/drupal-association\n",
      "Drupal Association 178\n",
      "https://summerofcode.withgoogle.com/programs/2022/organizations/52north-spatial-information-research-gmbh\n",
      "52°North Spatial Information Research GmbH 179\n",
      "https://summerofcode.withgoogle.com/programs/2022/organizations/llvm-compiler-infrastructure\n",
      "LLVM Compiler Infrastructure 180\n",
      "https://summerofcode.withgoogle.com/programs/2022/organizations/scummvm\n",
      "ScummVM 181\n",
      "https://summerofcode.withgoogle.com/programs/2022/organizations/openvino-toolkit\n",
      "OpenVINO Toolkit 182\n",
      "https://summerofcode.withgoogle.com/programs/2022/organizations/jitsi\n",
      "Jitsi 183\n",
      "https://summerofcode.withgoogle.com/programs/2022/organizations/semi-technologies\n",
      "Semi Technologies 184\n",
      "https://summerofcode.withgoogle.com/programs/2022/organizations/beagleboardorg\n",
      "BeagleBoard.org 185\n",
      "https://summerofcode.withgoogle.com/programs/2022/organizations/liquid-galaxy-project\n",
      "Liquid Galaxy project 186\n",
      "https://summerofcode.withgoogle.com/programs/2022/organizations/metacall\n",
      "MetaCall 187\n",
      "https://summerofcode.withgoogle.com/programs/2022/organizations/circuitverseorg\n",
      "CircuitVerse.org 188\n",
      "https://summerofcode.withgoogle.com/programs/2022/organizations/ankidroid\n",
      "AnkiDroid 189\n",
      "https://summerofcode.withgoogle.com/programs/2022/organizations/openastronomy\n",
      "OpenAstronomy 190\n",
      "https://summerofcode.withgoogle.com/programs/2022/organizations/ffmpeg\n",
      "FFmpeg 191\n",
      "https://summerofcode.withgoogle.com/programs/2022/organizations/criu\n",
      "CRIU 192\n",
      "https://summerofcode.withgoogle.com/programs/2022/organizations/micro-electronics-research-lab-uitu\n",
      "Micro Electronics Research Lab - UITU 193\n",
      "https://summerofcode.withgoogle.com/programs/2022/organizations/frrouting\n",
      "FRRouting 194\n",
      "https://summerofcode.withgoogle.com/programs/2022/organizations/reactos-foundation\n",
      "ReactOS Foundation 195\n",
      "https://summerofcode.withgoogle.com/programs/2022/organizations/wikimedia-foundation\n",
      "Wikimedia Foundation 196\n",
      "https://summerofcode.withgoogle.com/programs/2022/organizations/homebrew\n",
      "Homebrew 197\n",
      "https://summerofcode.withgoogle.com/programs/2022/organizations/incf\n",
      "INCF 198\n"
     ]
    }
   ],
   "source": [
    "for link in links[141:]:\n",
    "    print(link)\n",
    "    \n",
    "    driver.get(link)\n",
    "    time.sleep(6)\n",
    "    \n",
    "    temp = dict()\n",
    "    name = driver.find_element(By.CSS_SELECTOR, 'span.title')\n",
    "    desc = driver.find_elements(By.CSS_SELECTOR, 'div.constrainer--line-length')[1]\n",
    "    tech_stack = driver.find_element(By.CSS_SELECTOR, 'div.tech__content')\n",
    "    topics = driver.find_element(By.CSS_SELECTOR, 'div.topics__content')\n",
    "    prose = driver.find_element(By.CSS_SELECTOR, 'div.bd')\n",
    "    url = driver.find_element(By.CSS_SELECTOR, 'a.link')\n",
    "    \n",
    "    temp['desc'] = desc.text\n",
    "    temp['tech_stack'] = tech_stack.text.split(',')\n",
    "    temp['topics'] = topics.text.split(',')\n",
    "    temp['detail'] = prose.text\n",
    "    temp['url'] = url.text\n",
    "    temp['tags'] = []\n",
    "    try:\n",
    "        twitter = driver.find_element(By.CSS_SELECTOR, 'body > app-root > app-layout > mat-sidenav-container > mat-sidenav-content.mat-drawer-content.mat-sidenav-content.site__main.theme.theme--gray.ng-star-inserted > div > div > main > app-program-organization > app-org-info > section > div.section__inner > div > div > div.grid__row__item.grid__row__item--span3\\@md > app-org-info-contact-card > app-card > div > div > ul > li:nth-child(3) > a')\n",
    "        discord = driver.find_element(By.CSS_SELECTOR, 'body > app-root > app-layout > mat-sidenav-container > mat-sidenav-content.mat-drawer-content.mat-sidenav-content.site__main.theme.theme--gray.ng-star-inserted > div > div > main > app-program-organization > app-org-info > section > div.section__inner > div > div > div.grid__row__item.grid__row__item--span3\\@md > app-org-info-contact-card > app-card > div > div > ul > li:nth-child(2) > a')\n",
    "        temp['discord'] = discord.get_attribute('href')\n",
    "        temp['twitter'] = twitter.get_attribute('href')\n",
    "    except:\n",
    "        temp['discord'] = 'NA'\n",
    "        temp['twitter'] = 'NA'\n",
    "    orgs[name.text] = temp\n",
    "    print(name.text, links.index(link)+1)\n"
   ]
  },
  {
   "cell_type": "code",
   "execution_count": 170,
   "id": "f9cfe7d6",
   "metadata": {},
   "outputs": [
    {
     "ename": "TypeError",
     "evalue": "Object of type WebElement is not JSON serializable",
     "output_type": "error",
     "traceback": [
      "\u001b[0;31m---------------------------------------------------------------------------\u001b[0m",
      "\u001b[0;31mTypeError\u001b[0m                                 Traceback (most recent call last)",
      "Input \u001b[0;32mIn [170]\u001b[0m, in \u001b[0;36m<cell line: 2>\u001b[0;34m()\u001b[0m\n\u001b[1;32m      1\u001b[0m file \u001b[38;5;241m=\u001b[39m \u001b[38;5;28mopen\u001b[39m(\u001b[38;5;124m\"\u001b[39m\u001b[38;5;124morgs.json\u001b[39m\u001b[38;5;124m\"\u001b[39m, \u001b[38;5;124m\"\u001b[39m\u001b[38;5;124mw\u001b[39m\u001b[38;5;124m\"\u001b[39m)\n\u001b[0;32m----> 2\u001b[0m \u001b[43mjson\u001b[49m\u001b[38;5;241;43m.\u001b[39;49m\u001b[43mdump\u001b[49m\u001b[43m(\u001b[49m\u001b[43morgs\u001b[49m\u001b[43m,\u001b[49m\u001b[43m \u001b[49m\u001b[43mfile\u001b[49m\u001b[43m,\u001b[49m\u001b[43m \u001b[49m\u001b[43mindent\u001b[49m\u001b[38;5;241;43m=\u001b[39;49m\u001b[38;5;241;43m4\u001b[39;49m\u001b[43m)\u001b[49m\n\u001b[1;32m      3\u001b[0m file\u001b[38;5;241m.\u001b[39mclose()\n",
      "File \u001b[0;32m~/anaconda3/lib/python3.9/json/__init__.py:179\u001b[0m, in \u001b[0;36mdump\u001b[0;34m(obj, fp, skipkeys, ensure_ascii, check_circular, allow_nan, cls, indent, separators, default, sort_keys, **kw)\u001b[0m\n\u001b[1;32m    173\u001b[0m     iterable \u001b[38;5;241m=\u001b[39m \u001b[38;5;28mcls\u001b[39m(skipkeys\u001b[38;5;241m=\u001b[39mskipkeys, ensure_ascii\u001b[38;5;241m=\u001b[39mensure_ascii,\n\u001b[1;32m    174\u001b[0m         check_circular\u001b[38;5;241m=\u001b[39mcheck_circular, allow_nan\u001b[38;5;241m=\u001b[39mallow_nan, indent\u001b[38;5;241m=\u001b[39mindent,\n\u001b[1;32m    175\u001b[0m         separators\u001b[38;5;241m=\u001b[39mseparators,\n\u001b[1;32m    176\u001b[0m         default\u001b[38;5;241m=\u001b[39mdefault, sort_keys\u001b[38;5;241m=\u001b[39msort_keys, \u001b[38;5;241m*\u001b[39m\u001b[38;5;241m*\u001b[39mkw)\u001b[38;5;241m.\u001b[39miterencode(obj)\n\u001b[1;32m    177\u001b[0m \u001b[38;5;66;03m# could accelerate with writelines in some versions of Python, at\u001b[39;00m\n\u001b[1;32m    178\u001b[0m \u001b[38;5;66;03m# a debuggability cost\u001b[39;00m\n\u001b[0;32m--> 179\u001b[0m \u001b[38;5;28;01mfor\u001b[39;00m chunk \u001b[38;5;129;01min\u001b[39;00m iterable:\n\u001b[1;32m    180\u001b[0m     fp\u001b[38;5;241m.\u001b[39mwrite(chunk)\n",
      "File \u001b[0;32m~/anaconda3/lib/python3.9/json/encoder.py:431\u001b[0m, in \u001b[0;36m_make_iterencode.<locals>._iterencode\u001b[0;34m(o, _current_indent_level)\u001b[0m\n\u001b[1;32m    429\u001b[0m     \u001b[38;5;28;01myield from\u001b[39;00m _iterencode_list(o, _current_indent_level)\n\u001b[1;32m    430\u001b[0m \u001b[38;5;28;01melif\u001b[39;00m \u001b[38;5;28misinstance\u001b[39m(o, \u001b[38;5;28mdict\u001b[39m):\n\u001b[0;32m--> 431\u001b[0m     \u001b[38;5;28;01myield from\u001b[39;00m _iterencode_dict(o, _current_indent_level)\n\u001b[1;32m    432\u001b[0m \u001b[38;5;28;01melse\u001b[39;00m:\n\u001b[1;32m    433\u001b[0m     \u001b[38;5;28;01mif\u001b[39;00m markers \u001b[38;5;129;01mis\u001b[39;00m \u001b[38;5;129;01mnot\u001b[39;00m \u001b[38;5;28;01mNone\u001b[39;00m:\n",
      "File \u001b[0;32m~/anaconda3/lib/python3.9/json/encoder.py:405\u001b[0m, in \u001b[0;36m_make_iterencode.<locals>._iterencode_dict\u001b[0;34m(dct, _current_indent_level)\u001b[0m\n\u001b[1;32m    403\u001b[0m         \u001b[38;5;28;01melse\u001b[39;00m:\n\u001b[1;32m    404\u001b[0m             chunks \u001b[38;5;241m=\u001b[39m _iterencode(value, _current_indent_level)\n\u001b[0;32m--> 405\u001b[0m         \u001b[38;5;28;01myield from\u001b[39;00m chunks\n\u001b[1;32m    406\u001b[0m \u001b[38;5;28;01mif\u001b[39;00m newline_indent \u001b[38;5;129;01mis\u001b[39;00m \u001b[38;5;129;01mnot\u001b[39;00m \u001b[38;5;28;01mNone\u001b[39;00m:\n\u001b[1;32m    407\u001b[0m     _current_indent_level \u001b[38;5;241m-\u001b[39m\u001b[38;5;241m=\u001b[39m \u001b[38;5;241m1\u001b[39m\n",
      "File \u001b[0;32m~/anaconda3/lib/python3.9/json/encoder.py:405\u001b[0m, in \u001b[0;36m_make_iterencode.<locals>._iterencode_dict\u001b[0;34m(dct, _current_indent_level)\u001b[0m\n\u001b[1;32m    403\u001b[0m         \u001b[38;5;28;01melse\u001b[39;00m:\n\u001b[1;32m    404\u001b[0m             chunks \u001b[38;5;241m=\u001b[39m _iterencode(value, _current_indent_level)\n\u001b[0;32m--> 405\u001b[0m         \u001b[38;5;28;01myield from\u001b[39;00m chunks\n\u001b[1;32m    406\u001b[0m \u001b[38;5;28;01mif\u001b[39;00m newline_indent \u001b[38;5;129;01mis\u001b[39;00m \u001b[38;5;129;01mnot\u001b[39;00m \u001b[38;5;28;01mNone\u001b[39;00m:\n\u001b[1;32m    407\u001b[0m     _current_indent_level \u001b[38;5;241m-\u001b[39m\u001b[38;5;241m=\u001b[39m \u001b[38;5;241m1\u001b[39m\n",
      "File \u001b[0;32m~/anaconda3/lib/python3.9/json/encoder.py:438\u001b[0m, in \u001b[0;36m_make_iterencode.<locals>._iterencode\u001b[0;34m(o, _current_indent_level)\u001b[0m\n\u001b[1;32m    436\u001b[0m         \u001b[38;5;28;01mraise\u001b[39;00m \u001b[38;5;167;01mValueError\u001b[39;00m(\u001b[38;5;124m\"\u001b[39m\u001b[38;5;124mCircular reference detected\u001b[39m\u001b[38;5;124m\"\u001b[39m)\n\u001b[1;32m    437\u001b[0m     markers[markerid] \u001b[38;5;241m=\u001b[39m o\n\u001b[0;32m--> 438\u001b[0m o \u001b[38;5;241m=\u001b[39m \u001b[43m_default\u001b[49m\u001b[43m(\u001b[49m\u001b[43mo\u001b[49m\u001b[43m)\u001b[49m\n\u001b[1;32m    439\u001b[0m \u001b[38;5;28;01myield from\u001b[39;00m _iterencode(o, _current_indent_level)\n\u001b[1;32m    440\u001b[0m \u001b[38;5;28;01mif\u001b[39;00m markers \u001b[38;5;129;01mis\u001b[39;00m \u001b[38;5;129;01mnot\u001b[39;00m \u001b[38;5;28;01mNone\u001b[39;00m:\n",
      "File \u001b[0;32m~/anaconda3/lib/python3.9/json/encoder.py:179\u001b[0m, in \u001b[0;36mJSONEncoder.default\u001b[0;34m(self, o)\u001b[0m\n\u001b[1;32m    160\u001b[0m \u001b[38;5;28;01mdef\u001b[39;00m \u001b[38;5;21mdefault\u001b[39m(\u001b[38;5;28mself\u001b[39m, o):\n\u001b[1;32m    161\u001b[0m     \u001b[38;5;124;03m\"\"\"Implement this method in a subclass such that it returns\u001b[39;00m\n\u001b[1;32m    162\u001b[0m \u001b[38;5;124;03m    a serializable object for ``o``, or calls the base implementation\u001b[39;00m\n\u001b[1;32m    163\u001b[0m \u001b[38;5;124;03m    (to raise a ``TypeError``).\u001b[39;00m\n\u001b[0;32m   (...)\u001b[0m\n\u001b[1;32m    177\u001b[0m \n\u001b[1;32m    178\u001b[0m \u001b[38;5;124;03m    \"\"\"\u001b[39;00m\n\u001b[0;32m--> 179\u001b[0m     \u001b[38;5;28;01mraise\u001b[39;00m \u001b[38;5;167;01mTypeError\u001b[39;00m(\u001b[38;5;124mf\u001b[39m\u001b[38;5;124m'\u001b[39m\u001b[38;5;124mObject of type \u001b[39m\u001b[38;5;132;01m{\u001b[39;00mo\u001b[38;5;241m.\u001b[39m\u001b[38;5;18m__class__\u001b[39m\u001b[38;5;241m.\u001b[39m\u001b[38;5;18m__name__\u001b[39m\u001b[38;5;132;01m}\u001b[39;00m\u001b[38;5;124m \u001b[39m\u001b[38;5;124m'\u001b[39m\n\u001b[1;32m    180\u001b[0m                     \u001b[38;5;124mf\u001b[39m\u001b[38;5;124m'\u001b[39m\u001b[38;5;124mis not JSON serializable\u001b[39m\u001b[38;5;124m'\u001b[39m)\n",
      "\u001b[0;31mTypeError\u001b[0m: Object of type WebElement is not JSON serializable"
     ]
    }
   ],
   "source": [
    "file = open(\"orgs.json\", \"w\")\n",
    "json.dump(orgs, file, indent=4)\n",
    "file.close()"
   ]
  },
  {
   "cell_type": "code",
   "execution_count": 173,
   "id": "b393326e",
   "metadata": {},
   "outputs": [],
   "source": [
    "driver.get('https://summerofcode.withgoogle.com/programs/2022/organizations/')\n",
    "time.sleep(5)"
   ]
  },
  {
   "cell_type": "code",
   "execution_count": 154,
   "id": "6ee8adb3",
   "metadata": {},
   "outputs": [
    {
     "name": "stdout",
     "output_type": "stream",
     "text": [
      "['2022 Program\\nomegaUp', 'Open CS Education as a catalyst for social change']\n"
     ]
    }
   ],
   "source": [
    "desc = driver.find_elements(By.CSS_SELECTOR, 'div.constrainer--line-length')\n",
    "print([i.text for i in desc])"
   ]
  },
  {
   "cell_type": "code",
   "execution_count": 175,
   "id": "8014c3ac",
   "metadata": {},
   "outputs": [
    {
     "name": "stdout",
     "output_type": "stream",
     "text": [
      "Jenkins\n",
      "1\n",
      "Open Genome Informatics\n",
      "2\n",
      "IOOS\n",
      "3\n",
      "omegaUp\n",
      "4\n",
      "The ENIGMA Team\n",
      "5\n",
      "AOSSIE\n",
      "6\n",
      "Chromium\n",
      "7\n",
      "moja global\n",
      "8\n",
      "CHIPS Alliance\n",
      "9\n",
      "Unikraft\n",
      "10\n",
      "FreeType\n",
      "11\n",
      "GNSS-SDR\n",
      "12\n",
      "OpenMRS\n",
      "13\n",
      "Forschungszentrum Jülich\n",
      "14\n",
      "BRL-CAD\n",
      "15\n",
      "AboutCode\n",
      "16\n",
      "TensorFlow\n",
      "17\n",
      "Genome Assembly and Annotation\n",
      "18\n",
      "Wikimedia Foundation\n",
      "19\n",
      "Department of Biomedical Informatics, Emory University\n",
      "20\n",
      "FOSSology\n",
      "21\n",
      "Debian\n",
      "22\n",
      "Apache Software Foundation\n",
      "23\n",
      "Global Alliance for Genomics and Health\n",
      "24\n",
      "Software Heritage\n",
      "25\n",
      "SageMath\n",
      "26\n",
      "The Palisadoes Foundation\n",
      "27\n",
      "Free and Open Source Silicon Foundation\n",
      "28\n",
      "MZmine\n",
      "29\n",
      "Responsible AI and Human Centred Technology\n",
      "30\n",
      "52°North Spatial Information Research GmbH\n",
      "31\n",
      "Our World In Data\n",
      "32\n",
      "Synfig\n",
      "33\n",
      "Center for Translational Data Science\n",
      "34\n",
      "Joplin\n",
      "35\n",
      "Gentoo Foundation\n",
      "36\n",
      "RADAR-base\n",
      "37\n",
      "Haiku\n",
      "38\n",
      "OpenWISP\n",
      "39\n",
      "Plone Foundation\n",
      "40\n",
      "Processing Foundation\n",
      "41\n",
      "sktime\n",
      "42\n",
      "ScummVM\n",
      "43\n",
      "Cuneiform Digital Library Initiative (CDLI)\n",
      "44\n",
      "The ns-3 Network Simulator Project\n",
      "45\n",
      "libssh\n",
      "46\n",
      "Matrix.org\n",
      "47\n",
      "QEMU\n",
      "48\n",
      "SCoRe Lab\n",
      "49\n",
      "Open Food Facts\n",
      "50\n"
     ]
    },
    {
     "ename": "ElementClickInterceptedException",
     "evalue": "Message: element click intercepted: Element <button mat-icon-button=\"\" type=\"button\" class=\"mat-focus-indicator mat-tooltip-trigger mat-paginator-navigation-next mat-icon-button mat-button-base\" aria-label=\"Next page\">...</button> is not clickable at point (892, 911). Other element would receive the click: <div class=\"cookieBarInner\">...</div>\n  (Session info: chrome=103.0.5060.134)\nStacktrace:\n#0 0x55bf4ad80cd3 <unknown>\n#1 0x55bf4ab88968 <unknown>\n#2 0x55bf4abc7675 <unknown>\n#3 0x55bf4abc5212 <unknown>\n#4 0x55bf4abc2864 <unknown>\n#5 0x55bf4abc14a5 <unknown>\n#6 0x55bf4abb5189 <unknown>\n#7 0x55bf4abddbb2 <unknown>\n#8 0x55bf4abb4a43 <unknown>\n#9 0x55bf4abddcbe <unknown>\n#10 0x55bf4abf0ea8 <unknown>\n#11 0x55bf4abddaa3 <unknown>\n#12 0x55bf4abb33fa <unknown>\n#13 0x55bf4abb4555 <unknown>\n#14 0x55bf4adc82bd <unknown>\n#15 0x55bf4adcc418 <unknown>\n#16 0x55bf4adb236e <unknown>\n#17 0x55bf4adcd078 <unknown>\n#18 0x55bf4ada6bb0 <unknown>\n#19 0x55bf4ade9d58 <unknown>\n#20 0x55bf4ade9ed8 <unknown>\n#21 0x55bf4ae03cfd <unknown>\n#22 0x7f1097e7fb43 <unknown>\n",
     "output_type": "error",
     "traceback": [
      "\u001b[0;31m---------------------------------------------------------------------------\u001b[0m",
      "\u001b[0;31mElementClickInterceptedException\u001b[0m          Traceback (most recent call last)",
      "Input \u001b[0;32mIn [175]\u001b[0m, in \u001b[0;36m<cell line: 2>\u001b[0;34m()\u001b[0m\n\u001b[1;32m     11\u001b[0m     orgs[name\u001b[38;5;241m.\u001b[39mtext][\u001b[38;5;124m\"\u001b[39m\u001b[38;5;124mdesc\u001b[39m\u001b[38;5;124m\"\u001b[39m] \u001b[38;5;241m=\u001b[39m short_desc\u001b[38;5;241m.\u001b[39mtext\n\u001b[1;32m     12\u001b[0m     \u001b[38;5;28mprint\u001b[39m(cntter)\n\u001b[0;32m---> 13\u001b[0m \u001b[43mgo_next\u001b[49m\u001b[43m(\u001b[49m\u001b[43m)\u001b[49m\n",
      "Input \u001b[0;32mIn [128]\u001b[0m, in \u001b[0;36mgo_next\u001b[0;34m()\u001b[0m\n\u001b[1;32m      3\u001b[0m \u001b[38;5;28;01mdef\u001b[39;00m \u001b[38;5;21mgo_next\u001b[39m():\n\u001b[1;32m      4\u001b[0m     \u001b[38;5;28mnext\u001b[39m \u001b[38;5;241m=\u001b[39m driver\u001b[38;5;241m.\u001b[39mfind_elements(By\u001b[38;5;241m.\u001b[39mXPATH, next_xpath)\n\u001b[0;32m----> 5\u001b[0m     \u001b[38;5;28;43mnext\u001b[39;49m\u001b[43m[\u001b[49m\u001b[38;5;241;43m-\u001b[39;49m\u001b[38;5;241;43m1\u001b[39;49m\u001b[43m]\u001b[49m\u001b[38;5;241;43m.\u001b[39;49m\u001b[43mclick\u001b[49m\u001b[43m(\u001b[49m\u001b[43m)\u001b[49m\n",
      "File \u001b[0;32m~/anaconda3/lib/python3.9/site-packages/selenium/webdriver/remote/webelement.py:88\u001b[0m, in \u001b[0;36mWebElement.click\u001b[0;34m(self)\u001b[0m\n\u001b[1;32m     86\u001b[0m \u001b[38;5;28;01mdef\u001b[39;00m \u001b[38;5;21mclick\u001b[39m(\u001b[38;5;28mself\u001b[39m) \u001b[38;5;241m-\u001b[39m\u001b[38;5;241m>\u001b[39m \u001b[38;5;28;01mNone\u001b[39;00m:\n\u001b[1;32m     87\u001b[0m     \u001b[38;5;124;03m\"\"\"Clicks the element.\"\"\"\u001b[39;00m\n\u001b[0;32m---> 88\u001b[0m     \u001b[38;5;28;43mself\u001b[39;49m\u001b[38;5;241;43m.\u001b[39;49m\u001b[43m_execute\u001b[49m\u001b[43m(\u001b[49m\u001b[43mCommand\u001b[49m\u001b[38;5;241;43m.\u001b[39;49m\u001b[43mCLICK_ELEMENT\u001b[49m\u001b[43m)\u001b[49m\n",
      "File \u001b[0;32m~/anaconda3/lib/python3.9/site-packages/selenium/webdriver/remote/webelement.py:396\u001b[0m, in \u001b[0;36mWebElement._execute\u001b[0;34m(self, command, params)\u001b[0m\n\u001b[1;32m    394\u001b[0m     params \u001b[38;5;241m=\u001b[39m {}\n\u001b[1;32m    395\u001b[0m params[\u001b[38;5;124m'\u001b[39m\u001b[38;5;124mid\u001b[39m\u001b[38;5;124m'\u001b[39m] \u001b[38;5;241m=\u001b[39m \u001b[38;5;28mself\u001b[39m\u001b[38;5;241m.\u001b[39m_id\n\u001b[0;32m--> 396\u001b[0m \u001b[38;5;28;01mreturn\u001b[39;00m \u001b[38;5;28;43mself\u001b[39;49m\u001b[38;5;241;43m.\u001b[39;49m\u001b[43m_parent\u001b[49m\u001b[38;5;241;43m.\u001b[39;49m\u001b[43mexecute\u001b[49m\u001b[43m(\u001b[49m\u001b[43mcommand\u001b[49m\u001b[43m,\u001b[49m\u001b[43m \u001b[49m\u001b[43mparams\u001b[49m\u001b[43m)\u001b[49m\n",
      "File \u001b[0;32m~/anaconda3/lib/python3.9/site-packages/selenium/webdriver/remote/webdriver.py:434\u001b[0m, in \u001b[0;36mWebDriver.execute\u001b[0;34m(self, driver_command, params)\u001b[0m\n\u001b[1;32m    432\u001b[0m response \u001b[38;5;241m=\u001b[39m \u001b[38;5;28mself\u001b[39m\u001b[38;5;241m.\u001b[39mcommand_executor\u001b[38;5;241m.\u001b[39mexecute(driver_command, params)\n\u001b[1;32m    433\u001b[0m \u001b[38;5;28;01mif\u001b[39;00m response:\n\u001b[0;32m--> 434\u001b[0m     \u001b[38;5;28;43mself\u001b[39;49m\u001b[38;5;241;43m.\u001b[39;49m\u001b[43merror_handler\u001b[49m\u001b[38;5;241;43m.\u001b[39;49m\u001b[43mcheck_response\u001b[49m\u001b[43m(\u001b[49m\u001b[43mresponse\u001b[49m\u001b[43m)\u001b[49m\n\u001b[1;32m    435\u001b[0m     response[\u001b[38;5;124m'\u001b[39m\u001b[38;5;124mvalue\u001b[39m\u001b[38;5;124m'\u001b[39m] \u001b[38;5;241m=\u001b[39m \u001b[38;5;28mself\u001b[39m\u001b[38;5;241m.\u001b[39m_unwrap_value(\n\u001b[1;32m    436\u001b[0m         response\u001b[38;5;241m.\u001b[39mget(\u001b[38;5;124m'\u001b[39m\u001b[38;5;124mvalue\u001b[39m\u001b[38;5;124m'\u001b[39m, \u001b[38;5;28;01mNone\u001b[39;00m))\n\u001b[1;32m    437\u001b[0m     \u001b[38;5;28;01mreturn\u001b[39;00m response\n",
      "File \u001b[0;32m~/anaconda3/lib/python3.9/site-packages/selenium/webdriver/remote/errorhandler.py:243\u001b[0m, in \u001b[0;36mErrorHandler.check_response\u001b[0;34m(self, response)\u001b[0m\n\u001b[1;32m    241\u001b[0m         alert_text \u001b[38;5;241m=\u001b[39m value[\u001b[38;5;124m'\u001b[39m\u001b[38;5;124malert\u001b[39m\u001b[38;5;124m'\u001b[39m]\u001b[38;5;241m.\u001b[39mget(\u001b[38;5;124m'\u001b[39m\u001b[38;5;124mtext\u001b[39m\u001b[38;5;124m'\u001b[39m)\n\u001b[1;32m    242\u001b[0m     \u001b[38;5;28;01mraise\u001b[39;00m exception_class(message, screen, stacktrace, alert_text)  \u001b[38;5;66;03m# type: ignore[call-arg]  # mypy is not smart enough here\u001b[39;00m\n\u001b[0;32m--> 243\u001b[0m \u001b[38;5;28;01mraise\u001b[39;00m exception_class(message, screen, stacktrace)\n",
      "\u001b[0;31mElementClickInterceptedException\u001b[0m: Message: element click intercepted: Element <button mat-icon-button=\"\" type=\"button\" class=\"mat-focus-indicator mat-tooltip-trigger mat-paginator-navigation-next mat-icon-button mat-button-base\" aria-label=\"Next page\">...</button> is not clickable at point (892, 911). Other element would receive the click: <div class=\"cookieBarInner\">...</div>\n  (Session info: chrome=103.0.5060.134)\nStacktrace:\n#0 0x55bf4ad80cd3 <unknown>\n#1 0x55bf4ab88968 <unknown>\n#2 0x55bf4abc7675 <unknown>\n#3 0x55bf4abc5212 <unknown>\n#4 0x55bf4abc2864 <unknown>\n#5 0x55bf4abc14a5 <unknown>\n#6 0x55bf4abb5189 <unknown>\n#7 0x55bf4abddbb2 <unknown>\n#8 0x55bf4abb4a43 <unknown>\n#9 0x55bf4abddcbe <unknown>\n#10 0x55bf4abf0ea8 <unknown>\n#11 0x55bf4abddaa3 <unknown>\n#12 0x55bf4abb33fa <unknown>\n#13 0x55bf4abb4555 <unknown>\n#14 0x55bf4adc82bd <unknown>\n#15 0x55bf4adcc418 <unknown>\n#16 0x55bf4adb236e <unknown>\n#17 0x55bf4adcd078 <unknown>\n#18 0x55bf4ada6bb0 <unknown>\n#19 0x55bf4ade9d58 <unknown>\n#20 0x55bf4ade9ed8 <unknown>\n#21 0x55bf4ae03cfd <unknown>\n#22 0x7f1097e7fb43 <unknown>\n"
     ]
    }
   ],
   "source": [
    "cntter = 0\n",
    "for cnt in range(4):\n",
    "    \n",
    "    time.sleep(3)\n",
    "    x = driver.find_elements(By.CSS_SELECTOR, 'div.info')\n",
    "    for i in x:\n",
    "        cntter += 1\n",
    "        name = i.find_element(By.CSS_SELECTOR, 'div.name')\n",
    "        short_desc = i.find_element(By.CSS_SELECTOR, 'div.short-description')\n",
    "        print(name.text)\n",
    "        orgs[name.text][\"desc\"] = short_desc.text\n",
    "        print(cntter)\n",
    "    go_next()"
   ]
  },
  {
   "cell_type": "code",
   "execution_count": 176,
   "id": "1c88cb31",
   "metadata": {},
   "outputs": [],
   "source": [
    "go_next()"
   ]
  }
 ],
 "metadata": {
  "kernelspec": {
   "display_name": "Python 3 (ipykernel)",
   "language": "python",
   "name": "python3"
  },
  "language_info": {
   "codemirror_mode": {
    "name": "ipython",
    "version": 3
   },
   "file_extension": ".py",
   "mimetype": "text/x-python",
   "name": "python",
   "nbconvert_exporter": "python",
   "pygments_lexer": "ipython3",
   "version": "3.9.12"
  }
 },
 "nbformat": 4,
 "nbformat_minor": 5
}
